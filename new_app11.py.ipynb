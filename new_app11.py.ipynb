{
 "cells": [
  {
   "cell_type": "markdown",
   "id": "c4dfc0f3",
   "metadata": {},
   "source": [
    "MAKEUP MODEL\n"
   ]
  },
  {
   "cell_type": "code",
   "execution_count": 1,
   "id": "143b1c17",
   "metadata": {},
   "outputs": [],
   "source": [
    "import cv2\n",
    "import os\n",
    "import numpy as np\n",
    "from skimage.filters import gaussian\n",
    "\n",
    "import streamlit as st\n",
    "from PIL import Image, ImageColor\n"
   ]
  },
  {
   "cell_type": "code",
   "execution_count": 2,
   "id": "c902401e",
   "metadata": {},
   "outputs": [],
   "source": [
    "from test import evaluate"
   ]
  },
  {
   "cell_type": "code",
   "execution_count": 3,
   "id": "90e3c16f",
   "metadata": {},
   "outputs": [],
   "source": [
    "def sharpen(img):\n",
    "    img = img * 1.0\n",
    "    gauss_out = gaussian(img, sigma=5, multichannel=True)\n",
    "\n",
    "    alpha = 1.5\n",
    "    img_out = (img - gauss_out) * alpha + img\n",
    "\n",
    "    img_out = img_out / 255.0\n",
    "\n",
    "    mask_1 = img_out < 0\n",
    "    mask_2 = img_out > 1\n",
    "\n",
    "    img_out = img_out * (1 - mask_1)\n",
    "    img_out = img_out * (1 - mask_2) + mask_2\n",
    "    img_out = np.clip(img_out, 0, 1)\n",
    "    img_out = img_out * 255\n",
    "    return np.array(img_out, dtype=np.uint8)\n",
    "\n",
    "\n",
    "def hair(image, parsing, part=17, color=[230, 50, 20]):\n",
    "    b, g, r = color      #[10, 50, 250]       # [10, 250, 10]\n",
    "    tar_color = np.zeros_like(image)\n",
    "    tar_color[:, :, 0] = b\n",
    "    tar_color[:, :, 1] = g\n",
    "    tar_color[:, :, 2] = r\n",
    "    np.repeat(parsing[:, :, np.newaxis], 3, axis=2)\n",
    "\n",
    "    image_hsv = cv2.cvtColor(image, cv2.COLOR_BGR2HSV)\n",
    "    tar_hsv = cv2.cvtColor(tar_color, cv2.COLOR_BGR2HSV)\n",
    "\n",
    "    if part == 12 or part == 13:\n",
    "        image_hsv[:, :, 0:2] = tar_hsv[:, :, 0:2]\n",
    "    else:\n",
    "        image_hsv[:, :, 0:1] = tar_hsv[:, :, 0:1]\n",
    "\n",
    "    changed = cv2.cvtColor(image_hsv, cv2.COLOR_HSV2BGR)\n",
    "\n",
    "    if part == 17:\n",
    "        changed = sharpen(changed)\n",
    "    \n",
    "\n",
    "    changed[parsing != part] = image[parsing != part]\n",
    "    return changed"
   ]
  },
  {
   "cell_type": "code",
   "execution_count": 3,
   "id": "a1a8e0ce",
   "metadata": {},
   "outputs": [
    {
     "name": "stderr",
     "output_type": "stream",
     "text": [
      "2024-06-23 18:25:08.175 \n",
      "  \u001b[33m\u001b[1mWarning:\u001b[0m to view this Streamlit app on a browser, run it with the following\n",
      "  command:\n",
      "\n",
      "    streamlit run C:\\Users\\sahaj\\anaconda3\\Lib\\site-packages\\ipykernel_launcher.py [ARGUMENTS]\n"
     ]
    },
    {
     "data": {
      "text/plain": [
       "DeltaGenerator()"
      ]
     },
     "execution_count": 3,
     "metadata": {},
     "output_type": "execute_result"
    }
   ],
   "source": [
    "st.title('Virtual Makeup app')"
   ]
  },
  {
   "cell_type": "code",
   "execution_count": 4,
   "id": "0ebfd836",
   "metadata": {},
   "outputs": [
    {
     "data": {
      "text/plain": [
       "DeltaGenerator(_root_container=1, _parent=DeltaGenerator())"
      ]
     },
     "execution_count": 4,
     "metadata": {},
     "output_type": "execute_result"
    }
   ],
   "source": [
    "st.sidebar.title('Virtual makeup')"
   ]
  },
  {
   "cell_type": "code",
   "execution_count": 5,
   "id": "ae8ba30e",
   "metadata": {},
   "outputs": [
    {
     "data": {
      "text/plain": [
       "DeltaGenerator(_root_container=1, _parent=DeltaGenerator())"
      ]
     },
     "execution_count": 5,
     "metadata": {},
     "output_type": "execute_result"
    }
   ],
   "source": [
    "st.sidebar.subheader('parameters')"
   ]
  },
  {
   "cell_type": "code",
   "execution_count": 6,
   "id": "7753431f",
   "metadata": {},
   "outputs": [],
   "source": [
    "table = {\n",
    "    'hair': 17,\n",
    "    'upper_lip': 12,\n",
    "     'lower_lip': 13\n",
    "}"
   ]
  },
  {
   "cell_type": "code",
   "execution_count": 27,
   "id": "05cfc938",
   "metadata": {},
   "outputs": [],
   "source": [
    "DEMO_IMG = 'scarlet.jpg'"
   ]
  },
  {
   "cell_type": "code",
   "execution_count": 28,
   "id": "762ec944",
   "metadata": {},
   "outputs": [
    {
     "data": {
      "text/plain": [
       "'scarlet.jpg'"
      ]
     },
     "execution_count": 28,
     "metadata": {},
     "output_type": "execute_result"
    }
   ],
   "source": [
    "DEMO_IMG"
   ]
  },
  {
   "cell_type": "markdown",
   "id": "bb843a01",
   "metadata": {},
   "source": [
    "FILE UPLOADER"
   ]
  },
  {
   "cell_type": "code",
   "execution_count": 54,
   "id": "c2f020f8",
   "metadata": {},
   "outputs": [],
   "source": [
    "img_file_buffer = st.sidebar.file_uploader('upload your image',type=['png','jpg','jpeg'])"
   ]
  },
  {
   "cell_type": "code",
   "execution_count": 30,
   "id": "31ab568b",
   "metadata": {},
   "outputs": [],
   "source": [
    "if img_file_buffer is not None:\n",
    "    image= np.array(Image.open(img_file_buffer))\n",
    "    demo_img = img_file_buffer \n",
    "else:\n",
    "    demo_img= DEMO_IMG\n",
    "    image= np.array(Image.open(demo_img))"
   ]
  },
  {
   "cell_type": "code",
   "execution_count": 31,
   "id": "9f463cc7",
   "metadata": {},
   "outputs": [],
   "source": [
    "new_image = image.copy()"
   ]
  },
  {
   "cell_type": "code",
   "execution_count": 32,
   "id": "bfb35f3a",
   "metadata": {},
   "outputs": [],
   "source": [
    "# original image"
   ]
  },
  {
   "cell_type": "code",
   "execution_count": 33,
   "id": "01f5d3d9",
   "metadata": {},
   "outputs": [
    {
     "data": {
      "text/plain": [
       "DeltaGenerator()"
      ]
     },
     "execution_count": 33,
     "metadata": {},
     "output_type": "execute_result"
    }
   ],
   "source": [
    "st.subheader('Original image')"
   ]
  },
  {
   "cell_type": "code",
   "execution_count": 34,
   "id": "6f1ee607",
   "metadata": {},
   "outputs": [
    {
     "data": {
      "text/plain": [
       "DeltaGenerator()"
      ]
     },
     "execution_count": 34,
     "metadata": {},
     "output_type": "execute_result"
    }
   ],
   "source": [
    "st.image(image,use_column_width=True)"
   ]
  },
  {
   "cell_type": "code",
   "execution_count": 35,
   "id": "c4cbebde",
   "metadata": {},
   "outputs": [],
   "source": [
    "cp = 'cp/79999_iter.pth'"
   ]
  },
  {
   "cell_type": "code",
   "execution_count": 36,
   "id": "3c163152",
   "metadata": {},
   "outputs": [],
   "source": [
    "ori = image.copy()"
   ]
  },
  {
   "cell_type": "code",
   "execution_count": 37,
   "id": "80dbc527",
   "metadata": {},
   "outputs": [],
   "source": [
    "h,w,_ = ori.shape"
   ]
  },
  {
   "cell_type": "code",
   "execution_count": 38,
   "id": "9e279dbf",
   "metadata": {},
   "outputs": [],
   "source": [
    "# resize image 1024"
   ]
  },
  {
   "cell_type": "code",
   "execution_count": 39,
   "id": "6cd21c22",
   "metadata": {},
   "outputs": [],
   "source": [
    "image = cv2.resize(image,(1024,1024))"
   ]
  },
  {
   "cell_type": "code",
   "execution_count": null,
   "id": "b22a9b28",
   "metadata": {},
   "outputs": [],
   "source": []
  },
  {
   "cell_type": "code",
   "execution_count": 44,
   "id": "6855bb17",
   "metadata": {},
   "outputs": [],
   "source": [
    "parsing = evaluate(demo_img, cp)\n",
    "parsing = cv2.resize(parsing, image.shape[0:2], interpolation=cv2.INTER_NEAREST)\n",
    "\n",
    "parts = [table['hair'], table['upper_lip'], table['lower_lip']]\n"
   ]
  },
  {
   "cell_type": "code",
   "execution_count": 50,
   "id": "887ba002",
   "metadata": {},
   "outputs": [
    {
     "ename": "NameError",
     "evalue": "name 'hair' is not defined",
     "output_type": "error",
     "traceback": [
      "\u001b[1;31m---------------------------------------------------------------------------\u001b[0m",
      "\u001b[1;31mNameError\u001b[0m                                 Traceback (most recent call last)",
      "Cell \u001b[1;32mIn[50], line 1\u001b[0m\n\u001b[1;32m----> 1\u001b[0m hair(image)\n",
      "\u001b[1;31mNameError\u001b[0m: name 'hair' is not defined"
     ]
    }
   ],
   "source": [
    "hair(image)"
   ]
  },
  {
   "cell_type": "code",
   "execution_count": 45,
   "id": "d196b996",
   "metadata": {},
   "outputs": [],
   "source": [
    "hair_color = st.sidebar.color_picker('Pick the Hair Color', '#000')\n",
    "hair_color = ImageColor.getcolor(hair_color, \"RGB\")\n",
    "\n",
    "lip_color = st.sidebar.color_picker('Pick the Lip Color', '#edbad1')\n",
    "\n",
    "lip_color = ImageColor.getcolor(lip_color, \"RGB\")\n"
   ]
  },
  {
   "cell_type": "code",
   "execution_count": 48,
   "id": "885f793a",
   "metadata": {},
   "outputs": [
    {
     "ename": "NameError",
     "evalue": "name 'hair' is not defined",
     "output_type": "error",
     "traceback": [
      "\u001b[1;31m---------------------------------------------------------------------------\u001b[0m",
      "\u001b[1;31mNameError\u001b[0m                                 Traceback (most recent call last)",
      "Cell \u001b[1;32mIn[48], line 4\u001b[0m\n\u001b[0;32m      1\u001b[0m colors \u001b[38;5;241m=\u001b[39m [hair_color, lip_color, lip_color]\n\u001b[0;32m      3\u001b[0m \u001b[38;5;28;01mfor\u001b[39;00m part, color \u001b[38;5;129;01min\u001b[39;00m \u001b[38;5;28mzip\u001b[39m(parts, colors):\n\u001b[1;32m----> 4\u001b[0m     image \u001b[38;5;241m=\u001b[39m hair(image, parsing, part, color)\n\u001b[0;32m      6\u001b[0m image \u001b[38;5;241m=\u001b[39m cv2\u001b[38;5;241m.\u001b[39mresize(image,(w,h))\n\u001b[0;32m      9\u001b[0m st\u001b[38;5;241m.\u001b[39msubheader(\u001b[38;5;124m'\u001b[39m\u001b[38;5;124mOutput Image\u001b[39m\u001b[38;5;124m'\u001b[39m)\n",
      "\u001b[1;31mNameError\u001b[0m: name 'hair' is not defined"
     ]
    }
   ],
   "source": [
    "colors = [hair_color, lip_color, lip_color]\n",
    "\n",
    "for part, color in zip(parts, colors):\n",
    "    image = hair(image, parsing, part, color)\n",
    "\n",
    "image = cv2.resize(image,(w,h))\n",
    "\n",
    "\n",
    "st.subheader('Output Image')\n",
    "\n",
    "st.image(image,use_column_width = True)"
   ]
  },
  {
   "cell_type": "code",
   "execution_count": 53,
   "id": "3c0d15e3",
   "metadata": {},
   "outputs": [
    {
     "ename": "NameError",
     "evalue": "name 'hair' is not defined",
     "output_type": "error",
     "traceback": [
      "\u001b[1;31m---------------------------------------------------------------------------\u001b[0m",
      "\u001b[1;31mNameError\u001b[0m                                 Traceback (most recent call last)",
      "Cell \u001b[1;32mIn[53], line 18\u001b[0m\n\u001b[0;32m     15\u001b[0m colors \u001b[38;5;241m=\u001b[39m [hair_color, lip_color, lip_color]\n\u001b[0;32m     17\u001b[0m \u001b[38;5;28;01mfor\u001b[39;00m part, color \u001b[38;5;129;01min\u001b[39;00m \u001b[38;5;28mzip\u001b[39m(parts, colors):\n\u001b[1;32m---> 18\u001b[0m     image \u001b[38;5;241m=\u001b[39m hair(image, parsing, part, color)\n\u001b[0;32m     20\u001b[0m image \u001b[38;5;241m=\u001b[39m cv2\u001b[38;5;241m.\u001b[39mresize(image,(w,h))\n\u001b[0;32m     23\u001b[0m st\u001b[38;5;241m.\u001b[39msubheader(\u001b[38;5;124m'\u001b[39m\u001b[38;5;124mOutput Image\u001b[39m\u001b[38;5;124m'\u001b[39m)\n",
      "\u001b[1;31mNameError\u001b[0m: name 'hair' is not defined"
     ]
    }
   ],
   "source": [
    "parsing = evaluate(demo_img, cp)\n",
    "parsing = cv2.resize(parsing, image.shape[0:2], interpolation=cv2.INTER_NEAREST)\n",
    "\n",
    "parts = [table['hair'], table['upper_lip'], table['lower_lip']]\n",
    "\n",
    "hair_color = st.sidebar.color_picker('Pick the Hair Color', '#000')\n",
    "hair_color = ImageColor.getcolor(hair_color, \"RGB\")\n",
    "\n",
    "lip_color = st.sidebar.color_picker('Pick the Lip Color', '#edbad1')\n",
    "\n",
    "lip_color = ImageColor.getcolor(lip_color, \"RGB\")\n",
    "\n",
    "\n",
    "\n",
    "colors = [hair_color, lip_color, lip_color]\n",
    "\n",
    "for part, color in zip(parts, colors):\n",
    "    image = hair(image, parsing, part, color)\n",
    "\n",
    "image = cv2.resize(image,(w,h))\n",
    "\n",
    "\n",
    "st.subheader('Output Image')\n",
    "\n",
    "st.image(image,use_column_width = True)"
   ]
  },
  {
   "cell_type": "code",
   "execution_count": 57,
   "id": "c5fbd907",
   "metadata": {},
   "outputs": [
    {
     "ename": "SyntaxError",
     "evalue": "unexpected character after line continuation character (506233302.py, line 1)",
     "output_type": "error",
     "traceback": [
      "\u001b[1;36m  Cell \u001b[1;32mIn[57], line 1\u001b[1;36m\u001b[0m\n\u001b[1;33m    streamlit run .\\new_app11.py\u001b[0m\n\u001b[1;37m                    ^\u001b[0m\n\u001b[1;31mSyntaxError\u001b[0m\u001b[1;31m:\u001b[0m unexpected character after line continuation character\n"
     ]
    }
   ],
   "source": [
    "streamlit run .\\new_app11.py"
   ]
  },
  {
   "cell_type": "code",
   "execution_count": null,
   "id": "4637d218",
   "metadata": {},
   "outputs": [],
   "source": []
  }
 ],
 "metadata": {
  "kernelspec": {
   "display_name": "Python 3 (ipykernel)",
   "language": "python",
   "name": "python3"
  },
  "language_info": {
   "codemirror_mode": {
    "name": "ipython",
    "version": 3
   },
   "file_extension": ".py",
   "mimetype": "text/x-python",
   "name": "python",
   "nbconvert_exporter": "python",
   "pygments_lexer": "ipython3",
   "version": "3.11.7"
  }
 },
 "nbformat": 4,
 "nbformat_minor": 5
}
