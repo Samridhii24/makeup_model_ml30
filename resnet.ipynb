{
 "cells": [
  {
   "cell_type": "code",
   "execution_count": 15,
   "id": "5f4e6c5f",
   "metadata": {
    "scrolled": true
   },
   "outputs": [
    {
     "name": "stdout",
     "output_type": "stream",
     "text": [
      "torch.Size([16, 128, 28, 28])\n",
      "torch.Size([16, 256, 14, 14])\n",
      "torch.Size([16, 512, 7, 7])\n"
     ]
    }
   ],
   "source": []
  },
  {
   "cell_type": "code",
   "execution_count": 1,
   "id": "b6b726ce",
   "metadata": {},
   "outputs": [],
   "source": [
    "import torch\n",
    "import torch.nn as nn\n",
    "import torch.nn.functional as F\n",
    "import torch.utils.model_zoo as modelzoo"
   ]
  },
  {
   "cell_type": "code",
   "execution_count": 2,
   "id": "dfbe272c",
   "metadata": {},
   "outputs": [],
   "source": [
    "resnet18_url = 'https://download.pytorch.org/models/resnet18-5c106cde.pth'"
   ]
  },
  {
   "cell_type": "code",
   "execution_count": 5,
   "id": "220b4acf",
   "metadata": {},
   "outputs": [],
   "source": [
    "def conv3x3(in_planes, out_planes, stride=1):\n",
    "    \"\"\"3x3 convolution with padding\"\"\"\n",
    "    return nn.Conv2d(in_planes, out_planes, kernel_size=3, stride=stride,\n",
    "                     padding=1, bias=False)"
   ]
  },
  {
   "cell_type": "code",
   "execution_count": 6,
   "id": "e0244e9a",
   "metadata": {},
   "outputs": [],
   "source": [
    "class BasicBlock(nn.Module):\n",
    "    def __init__(self, in_chan, out_chan, stride=1):\n",
    "        super(BasicBlock, self).__init__()\n",
    "        self.conv1 = conv3x3(in_chan, out_chan, stride)\n",
    "        self.bn1 = nn.BatchNorm2d(out_chan)\n",
    "        self.conv2 = conv3x3(out_chan, out_chan)\n",
    "        self.bn2 = nn.BatchNorm2d(out_chan)\n",
    "        self.relu = nn.ReLU(inplace=True)\n",
    "        self.downsample = None\n",
    "        if in_chan != out_chan or stride != 1:\n",
    "            self.downsample = nn.Sequential(\n",
    "                nn.Conv2d(in_chan, out_chan,\n",
    "                          kernel_size=1, stride=stride, bias=False),\n",
    "                nn.BatchNorm2d(out_chan),\n",
    "                )"
   ]
  },
  {
   "cell_type": "code",
   "execution_count": 7,
   "id": "d7169147",
   "metadata": {},
   "outputs": [],
   "source": [
    "def forward(self, x):\n",
    "        residual = self.conv1(x)\n",
    "        residual = F.relu(self.bn1(residual))\n",
    "        residual = self.conv2(residual)\n",
    "        residual = self.bn2(residual)\n",
    "\n",
    "        shortcut = x\n",
    "        if self.downsample is not None:\n",
    "            shortcut = self.downsample(x)\n",
    "\n",
    "        out = shortcut + residual\n",
    "        out = self.relu(out)\n",
    "        return out"
   ]
  },
  {
   "cell_type": "code",
   "execution_count": 8,
   "id": "6eb62440",
   "metadata": {},
   "outputs": [],
   "source": [
    "def create_layer_basic(in_chan, out_chan, bnum, stride=1):\n",
    "    layers = [BasicBlock(in_chan, out_chan, stride=stride)]\n",
    "    for i in range(bnum-1):\n",
    "        layers.append(BasicBlock(out_chan, out_chan, stride=1))\n",
    "    return nn.Sequential(*layers)"
   ]
  },
  {
   "cell_type": "code",
   "execution_count": 9,
   "id": "d037ad50",
   "metadata": {},
   "outputs": [],
   "source": [
    "class Resnet18(nn.Module):\n",
    "    def __init__(self):\n",
    "        super(Resnet18, self).__init__()\n",
    "        self.conv1 = nn.Conv2d(3, 64, kernel_size=7, stride=2, padding=3,\n",
    "                               bias=False)\n",
    "        self.bn1 = nn.BatchNorm2d(64)\n",
    "        self.maxpool = nn.MaxPool2d(kernel_size=3, stride=2, padding=1)\n",
    "        self.layer1 = create_layer_basic(64, 64, bnum=2, stride=1)\n",
    "        self.layer2 = create_layer_basic(64, 128, bnum=2, stride=2)\n",
    "        self.layer3 = create_layer_basic(128, 256, bnum=2, stride=2)\n",
    "        self.layer4 = create_layer_basic(256, 512, bnum=2, stride=2)\n",
    "        self.init_weight()"
   ]
  },
  {
   "cell_type": "code",
   "execution_count": 10,
   "id": "c3638fad",
   "metadata": {},
   "outputs": [],
   "source": [
    "def forward(self, x):\n",
    "        x = self.conv1(x)\n",
    "        x = F.relu(self.bn1(x))\n",
    "        x = self.maxpool(x)\n",
    "\n",
    "        x = self.layer1(x)\n",
    "        feat8 = self.layer2(x) # 1/8\n",
    "        feat16 = self.layer3(feat8) # 1/16\n",
    "        feat32 = self.layer4(feat16) # 1/32\n",
    "        return feat8, feat16, feat32"
   ]
  },
  {
   "cell_type": "code",
   "execution_count": 11,
   "id": "ee990f0e",
   "metadata": {},
   "outputs": [],
   "source": [
    "def init_weight(self):\n",
    "        state_dict = modelzoo.load_url(resnet18_url)\n",
    "        self_state_dict = self.state_dict()\n",
    "        for k, v in state_dict.items():\n",
    "            if 'fc' in k: continue\n",
    "            self_state_dict.update({k: v})\n",
    "        self.load_state_dict(self_state_dict)\n"
   ]
  },
  {
   "cell_type": "code",
   "execution_count": 12,
   "id": "749da0bb",
   "metadata": {},
   "outputs": [],
   "source": [
    "def get_params(self):\n",
    "        wd_params, nowd_params = [], []\n",
    "        for name, module in self.named_modules():\n",
    "            if isinstance(module, (nn.Linear, nn.Conv2d)):\n",
    "                wd_params.append(module.weight)\n",
    "                if not module.bias is None:\n",
    "                    nowd_params.append(module.bias)\n",
    "            elif isinstance(module,  nn.BatchNorm2d):\n",
    "                nowd_params += list(module.parameters())\n",
    "        return wd_params, nowd_params"
   ]
  },
  {
   "cell_type": "code",
   "execution_count": 16,
   "id": "e3bcdb17",
   "metadata": {},
   "outputs": [
    {
     "name": "stdout",
     "output_type": "stream",
     "text": [
      "torch.Size([16, 128, 28, 28])\n",
      "torch.Size([16, 256, 14, 14])\n",
      "torch.Size([16, 512, 7, 7])\n"
     ]
    }
   ],
   "source": [
    "if __name__ == \"__main__\":\n",
    "    net = Resnet18()\n",
    "    x = torch.randn(16, 3, 224, 224)\n",
    "    out = net(x)\n",
    "    print(out[0].size())\n",
    "    print(out[1].size())\n",
    "    print(out[2].size())\n",
    "    net.get_params()\n"
   ]
  },
  {
   "cell_type": "code",
   "execution_count": null,
   "id": "7f51ab59",
   "metadata": {},
   "outputs": [],
   "source": []
  }
 ],
 "metadata": {
  "kernelspec": {
   "display_name": "Python 3 (ipykernel)",
   "language": "python",
   "name": "python3"
  },
  "language_info": {
   "codemirror_mode": {
    "name": "ipython",
    "version": 3
   },
   "file_extension": ".py",
   "mimetype": "text/x-python",
   "name": "python",
   "nbconvert_exporter": "python",
   "pygments_lexer": "ipython3",
   "version": "3.11.7"
  }
 },
 "nbformat": 4,
 "nbformat_minor": 5
}
