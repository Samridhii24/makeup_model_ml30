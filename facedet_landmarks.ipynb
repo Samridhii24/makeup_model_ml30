{
 "cells": [
  {
   "cell_type": "code",
   "execution_count": 7,
   "id": "ecbc44f8",
   "metadata": {},
   "outputs": [
    {
     "ename": "ModuleNotFoundError",
     "evalue": "No module named 'dlib'",
     "output_type": "error",
     "traceback": [
      "\u001b[1;31m---------------------------------------------------------------------------\u001b[0m",
      "\u001b[1;31mModuleNotFoundError\u001b[0m                       Traceback (most recent call last)",
      "Cell \u001b[1;32mIn[7], line 2\u001b[0m\n\u001b[0;32m      1\u001b[0m \u001b[38;5;28;01mimport\u001b[39;00m \u001b[38;5;21;01mcv2\u001b[39;00m\n\u001b[1;32m----> 2\u001b[0m \u001b[38;5;28;01mimport\u001b[39;00m \u001b[38;5;21;01mdlib\u001b[39;00m\n\u001b[0;32m      3\u001b[0m \u001b[38;5;28;01mimport\u001b[39;00m \u001b[38;5;21;01mnumpy\u001b[39;00m \u001b[38;5;28;01mas\u001b[39;00m \u001b[38;5;21;01mnp\u001b[39;00m\n",
      "\u001b[1;31mModuleNotFoundError\u001b[0m: No module named 'dlib'"
     ]
    }
   ],
   "source": [
    "import cv2\n",
    "import dlib\n",
    "import numpy as np"
   ]
  },
  {
   "cell_type": "code",
   "execution_count": 6,
   "id": "03d91bf3",
   "metadata": {},
   "outputs": [
    {
     "ename": "NameError",
     "evalue": "name 'dlib' is not defined",
     "output_type": "error",
     "traceback": [
      "\u001b[1;31m---------------------------------------------------------------------------\u001b[0m",
      "\u001b[1;31mNameError\u001b[0m                                 Traceback (most recent call last)",
      "Cell \u001b[1;32mIn[6], line 1\u001b[0m\n\u001b[1;32m----> 1\u001b[0m detector \u001b[38;5;241m=\u001b[39m dlib\u001b[38;5;241m.\u001b[39mget_frontal_face_detector()\n\u001b[0;32m      2\u001b[0m predictor \u001b[38;5;241m=\u001b[39m dlib\u001b[38;5;241m.\u001b[39mshape_predictor(\u001b[38;5;124m'\u001b[39m\u001b[38;5;124mshape_predictor_68_face_landmarks.dat\u001b[39m\u001b[38;5;124m'\u001b[39m)\n",
      "\u001b[1;31mNameError\u001b[0m: name 'dlib' is not defined"
     ]
    }
   ],
   "source": [
    "detector = dlib.get_frontal_face_detector()\n",
    "predictor = dlib.shape_predictor('shape_predictor_68_face_landmarks.dat')\n"
   ]
  },
  {
   "cell_type": "code",
   "execution_count": null,
   "id": "3c7d49ed",
   "metadata": {},
   "outputs": [],
   "source": [
    "def get_landmarks(image):\n",
    "    gray = cv2.cvtColor(image, cv2.COLOR_BGR2GRAY)\n",
    "    faces = detector(gray)\n",
    "    if len(faces) > 0:\n",
    "        landmarks = predictor(gray, faces[0])\n",
    "        return [(p.x, p.y) for p in landmarks.parts()]\n",
    "    return None\n"
   ]
  },
  {
   "cell_type": "code",
   "execution_count": null,
   "id": "e5b1f1ec",
   "metadata": {},
   "outputs": [],
   "source": [
    "def apply_lipstick(image, landmarks, color=(0, 0, 255)):\n",
    "    lips_points = landmarks[48:61]\n",
    "    hull = cv2.convexHull(np.array(lips_points))\n",
    "    mask = np.zeros_like(image)\n",
    "    cv2.fillConvexPoly(mask, hull, color)\n",
    "    mask = cv2.GaussianBlur(mask, (15, 15), 10)\n",
    "    return cv2.addWeighted(image, 1.0, mask, 0.4, 0)\n"
   ]
  },
  {
   "cell_type": "code",
   "execution_count": null,
   "id": "4a50995f",
   "metadata": {},
   "outputs": [],
   "source": [
    "def apply_blush(image, landmarks, color=(0, 0, 255)):\n",
    "    cheeks = [landmarks[1], landmarks[2], landmarks[3], landmarks[4], landmarks[31], landmarks[36],\n",
    "              landmarks[14], landmarks[13], landmarks[12], landmarks[11], landmarks[35], landmarks[45]]\n",
    "    hull = cv2.convexHull(np.array(cheeks))\n",
    "    mask = np.zeros_like(image)\n",
    "    cv2.fillConvexPoly(mask, hull, color)\n",
    "    mask = cv2.GaussianBlur(mask, (55, 55), 30)\n",
    "    return cv2.addWeighted(image, 1.0, mask, 0.3, 0)\n"
   ]
  },
  {
   "cell_type": "code",
   "execution_count": null,
   "id": "ebd734ac",
   "metadata": {},
   "outputs": [],
   "source": [
    "def apply_makeup(image_path):\n",
    "    image = cv2.imread(image_path)\n",
    "    landmarks = get_landmarks(image)\n",
    "    if landmarks:\n",
    "        image = apply_lipstick(image, landmarks)\n",
    "        image = apply_blush(image, landmarks)\n",
    "        return image\n",
    "    else:\n",
    "        print(\"No face detected.\")\n",
    "        return image\n",
    "\n",
    "if __name__ == \"__main__\":\n",
    "    image_path = 'path_to_your_image.jpg'\n",
    "    result = apply_makeup(image_path)\n",
    "    cv2.imshow('Virtual Makeup', result)\n",
    "    cv2.waitKey(0)\n",
    "    cv2.destroyAllWindows()\n"
   ]
  }
 ],
 "metadata": {
  "kernelspec": {
   "display_name": "Python 3 (ipykernel)",
   "language": "python",
   "name": "python3"
  },
  "language_info": {
   "codemirror_mode": {
    "name": "ipython",
    "version": 3
   },
   "file_extension": ".py",
   "mimetype": "text/x-python",
   "name": "python",
   "nbconvert_exporter": "python",
   "pygments_lexer": "ipython3",
   "version": "3.11.7"
  }
 },
 "nbformat": 4,
 "nbformat_minor": 5
}
